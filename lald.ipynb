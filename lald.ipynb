{
 "cells": [
  {
   "cell_type": "markdown",
   "metadata": {},
   "source": [
    "## ***Linear Algebra and Learning from Data Problem Sets***"
   ]
  },
  {
   "cell_type": "markdown",
   "metadata": {},
   "source": [
    "## **Problem Set I.3**"
   ]
  },
  {
   "cell_type": "markdown",
   "metadata": {},
   "source": [
    "**5.** Find four matrices $A_1$ to $A_4$."
   ]
  },
  {
   "cell_type": "markdown",
   "metadata": {},
   "source": [
    "<center>$A_2 = \\begin{bmatrix} 1 & 3 & 1 \\\\ 0 & 1 & 0 \\end{bmatrix} r = m < n, m = 2, n = 6, r = 2$</center> \n",
    "<center>$A_3 = \\begin{bmatrix} 1 & 3 \\\\ 2 & 1 \\\\ 3 & 2 \\end{bmatrix} r = n < m, m = 3, n = 2, r = 2$</center>\n",
    "<center>$A_4 = \\begin{bmatrix} 0 & 1 \\\\ 0 & 0 \\end{bmatrix} r < m, r < n, m = 2, n = 2, r = 1$</center>"
   ]
  },
  {
   "cell_type": "markdown",
   "metadata": {},
   "source": [
    "## **Problem Set I.4**"
   ]
  },
  {
   "cell_type": "markdown",
   "metadata": {},
   "source": [
    "**3.** What lower triangular matrix E puts A into upper triangular form $\\textit{EA = U}$? Multiply by $E^{-1} = L$ to factor $A$ into $LU$: <center>$A = \\begin{bmatrix} 2 & 1 & 0 \\\\ 0 & 4 & 2 \\\\ 6 & 3 & 5 \\end{bmatrix}$</center>"
   ]
  },
  {
   "cell_type": "markdown",
   "metadata": {},
   "source": []
  },
  {
   "cell_type": "markdown",
   "metadata": {},
   "source": [
    "**8.**  *Triadiagonal matrices* have zero entries except on the main diagonal and the two adjacent diagonals. Factors these into $A = LU$. <center>$A = \\begin{bmatrix} 1 & 1 & 0 \\\\ 1 & 2 & 1 \\\\ 0 & 1 & 2 \\end{bmatrix}$ and $A = \\begin{bmatrix} a & a & 0 \\\\ a & a+b & b \\\\ 0 & b & b+c \\end{bmatrix}$</center>"
   ]
  },
  {
   "cell_type": "markdown",
   "metadata": {},
   "source": [
    "<center>$L = \\begin{bmatrix} 1 & 0 & 0 \\\\ 1 & 1 & 0 \\\\ 0 & 1 & 1 \\end{bmatrix} U = \\begin{bmatrix} 1 & 1 & 0 \\\\ 0 & 1 & 1 \\\\ 0 & 0 & 1 \\end{bmatrix}$</center>"
   ]
  },
  {
   "cell_type": "markdown",
   "metadata": {},
   "source": [
    "<center>$L = \\begin{bmatrix} 1 & 0 & 0 \\\\ 1 & 1 & 0 \\\\ 0 & 1 & 1 \\end{bmatrix} U = \\begin{bmatrix} a & a & 0 \\\\ 0 & b & b \\\\ 0 & 0 & c \\end{bmatrix}$</center>"
   ]
  },
  {
   "cell_type": "markdown",
   "metadata": {},
   "source": [
    "**9.** If $A$ has pivots 5, 9, 3 with no row exchanges, what are the pivots for the upper left 2 by 2 submatrix $A_2$ (without row 3 and column 3)?"
   ]
  },
  {
   "cell_type": "markdown",
   "metadata": {},
   "source": [
    "<center>$A = \\begin{bmatrix} 5 & a & b \\\\ 0 & 9 & c \\\\ 0 & 0 & 3 \\end{bmatrix} A_2 = \\begin{bmatrix} 5 & a \\\\ 0 & 9 \\end{bmatrix}$</center>  "
   ]
  },
  {
   "cell_type": "markdown",
   "metadata": {},
   "source": [
    "<center>$A_2$ pivots are 5 and 9</center>"
   ]
  },
  {
   "cell_type": "markdown",
   "metadata": {},
   "source": [
    "**11.** Question for $A = \\begin{bmatrix} 1 & 3 \\\\ 2 & 4\\end{bmatrix}$: Apply complete pivoting to produce $P_{1}AP_{2} = LU$.  "
   ]
  },
  {
   "cell_type": "markdown",
   "metadata": {},
   "source": []
  },
  {
   "cell_type": "markdown",
   "metadata": {},
   "source": [
    "**12.** If the short wide matrix $A$ has $m < n$, how does elimination show that there are nonzero solutions to $Ax = 0$?  "
   ]
  },
  {
   "cell_type": "markdown",
   "metadata": {},
   "source": [
    "<center>$A = \\begin{bmatrix} 1 & 2 & 3 \\\\ 2 & 5 & 6 \\end{bmatrix}$</center> "
   ]
  },
  {
   "cell_type": "markdown",
   "metadata": {},
   "source": [
    "<center>$L = \\begin{bmatrix} 1 & 0 \\\\ 2 & 1 \\end{bmatrix} U = \\begin{bmatrix} 1 & 2 & 3 \\\\ 0 & 1 & 0 \\end{bmatrix}$</center> "
   ]
  },
  {
   "cell_type": "markdown",
   "metadata": {},
   "source": [
    "## **Problem Set I.5**"
   ]
  }
 ],
 "metadata": {
  "kernelspec": {
   "display_name": "Python 3",
   "language": "python",
   "name": "python3"
  },
  "language_info": {
   "codemirror_mode": {
    "name": "ipython",
    "version": 3
   },
   "file_extension": ".py",
   "mimetype": "text/x-python",
   "name": "python",
   "nbconvert_exporter": "python",
   "pygments_lexer": "ipython3",
   "version": "3.8.0"
  }
 },
 "nbformat": 4,
 "nbformat_minor": 4
}
